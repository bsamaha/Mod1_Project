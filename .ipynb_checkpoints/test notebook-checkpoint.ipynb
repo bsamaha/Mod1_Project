{
 "cells": [
  {
   "cell_type": "code",
   "execution_count": 3,
   "metadata": {},
   "outputs": [],
   "source": [
    "def dollar_to_int(dollar):\n",
    "    return int(dollar.replace('$', \"\").replace(',', \"\"))"
   ]
  },
  {
   "cell_type": "code",
   "execution_count": 4,
   "metadata": {},
   "outputs": [],
   "source": [
    "import locale\n",
    "def int_to_dollar(x):\n",
    "    return locale.currency(x, grouping=True)"
   ]
  },
  {
   "cell_type": "code",
   "execution_count": 1,
   "metadata": {},
   "outputs": [],
   "source": [
    "import ast"
   ]
  },
  {
   "cell_type": "code",
   "execution_count": 2,
   "metadata": {},
   "outputs": [
    {
     "data": {
      "text/plain": [
       "(1, 525.2)"
      ]
     },
     "execution_count": 2,
     "metadata": {},
     "output_type": "execute_result"
    }
   ],
   "source": [
    "ast.literal_eval(\"1,525.2\")"
   ]
  },
  {
   "cell_type": "code",
   "execution_count": 5,
   "metadata": {},
   "outputs": [
    {
     "data": {
      "text/plain": [
       "68474"
      ]
     },
     "execution_count": 5,
     "metadata": {},
     "output_type": "execute_result"
    }
   ],
   "source": [
    "int(68474.2)"
   ]
  },
  {
   "cell_type": "code",
   "execution_count": null,
   "metadata": {},
   "outputs": [],
   "source": [
    "dfmoney2['profit_over_production'] = dfmoney2.apply(lambda row: row['worldwide_gross'] - row['production_budget'] if (row['worldwide_gross'] > 0) & (row['production_budget'] > 0) else 0, axis = 1)"
   ]
  },
  {
   "cell_type": "code",
   "execution_count": null,
   "metadata": {},
   "outputs": [],
   "source": [
    "dfmoney2.index = range(len(dfmoney.index))"
   ]
  },
  {
   "cell_type": "code",
   "execution_count": 1,
   "metadata": {},
   "outputs": [],
   "source": [
    "import functions as fun\n",
    "from importlib import reload\n",
    "\n",
    "\n"
   ]
  },
  {
   "cell_type": "code",
   "execution_count": 34,
   "metadata": {},
   "outputs": [
    {
     "name": "stdout",
     "output_type": "stream",
     "text": [
      "<class 'pandas.core.frame.DataFrame'>\n",
      "Index: 5169 entries, tt0249516 to tt9906218\n",
      "Data columns (total 17 columns):\n",
      "studio               3347 non-null object\n",
      "domestic_gross       5169 non-null float64\n",
      "foreign_gross        5169 non-null float64\n",
      "year                 3350 non-null float64\n",
      "release_date         3395 non-null object\n",
      "production_budget    5169 non-null float64\n",
      "worldwide_gross      5169 non-null float64\n",
      "start_year           5169 non-null float64\n",
      "runtime_minutes      4717 non-null float64\n",
      "genres               5169 non-null object\n",
      "averagerating        4235 non-null float64\n",
      "numvotes             4235 non-null float64\n",
      "movie_name           5169 non-null object\n",
      "genresList           5169 non-null object\n",
      "writerCount          5169 non-null int64\n",
      "directorCount        5169 non-null int64\n",
      "genresCount          5169 non-null int64\n",
      "dtypes: float64(9), int64(3), object(5)\n",
      "memory usage: 886.9+ KB\n"
     ]
    }
   ],
   "source": [
    "df2.info()"
   ]
  },
  {
   "cell_type": "code",
   "execution_count": 37,
   "metadata": {},
   "outputs": [
    {
     "data": {
      "text/html": [
       "<div>\n",
       "<style scoped>\n",
       "    .dataframe tbody tr th:only-of-type {\n",
       "        vertical-align: middle;\n",
       "    }\n",
       "\n",
       "    .dataframe tbody tr th {\n",
       "        vertical-align: top;\n",
       "    }\n",
       "\n",
       "    .dataframe thead th {\n",
       "        text-align: right;\n",
       "    }\n",
       "</style>\n",
       "<table border=\"1\" class=\"dataframe\">\n",
       "  <thead>\n",
       "    <tr style=\"text-align: right;\">\n",
       "      <th></th>\n",
       "      <th>studio</th>\n",
       "      <th>domestic_gross</th>\n",
       "      <th>foreign_gross</th>\n",
       "      <th>year</th>\n",
       "      <th>release_date</th>\n",
       "      <th>production_budget</th>\n",
       "      <th>worldwide_gross</th>\n",
       "      <th>start_year</th>\n",
       "      <th>runtime_minutes</th>\n",
       "      <th>genres</th>\n",
       "      <th>averagerating</th>\n",
       "      <th>numvotes</th>\n",
       "      <th>movie_name</th>\n",
       "      <th>genresList</th>\n",
       "      <th>writerCount</th>\n",
       "      <th>directorCount</th>\n",
       "      <th>genresCount</th>\n",
       "    </tr>\n",
       "  </thead>\n",
       "  <tbody>\n",
       "    <tr>\n",
       "      <td>tt0249516</td>\n",
       "      <td>NaN</td>\n",
       "      <td>0.0</td>\n",
       "      <td>73706.0</td>\n",
       "      <td>NaN</td>\n",
       "      <td>Dec 31, 2012</td>\n",
       "      <td>45000000.0</td>\n",
       "      <td>73706.0</td>\n",
       "      <td>2012.0</td>\n",
       "      <td>91.0</td>\n",
       "      <td>Action,Animation,Comedy</td>\n",
       "      <td>1.9</td>\n",
       "      <td>8248.0</td>\n",
       "      <td>Foodfight!</td>\n",
       "      <td>[Action, Animation, Comedy]</td>\n",
       "      <td>5</td>\n",
       "      <td>1</td>\n",
       "      <td>3</td>\n",
       "    </tr>\n",
       "    <tr>\n",
       "      <td>tt0293429</td>\n",
       "      <td>NaN</td>\n",
       "      <td>70433227.0</td>\n",
       "      <td>51700000.0</td>\n",
       "      <td>NaN</td>\n",
       "      <td>Aug 18, 1995</td>\n",
       "      <td>20000000.0</td>\n",
       "      <td>122133227.0</td>\n",
       "      <td>2021.0</td>\n",
       "      <td>NaN</td>\n",
       "      <td>Action,Adventure,Fantasy</td>\n",
       "      <td>NaN</td>\n",
       "      <td>NaN</td>\n",
       "      <td>Mortal Kombat</td>\n",
       "      <td>[Action, Adventure, Fantasy]</td>\n",
       "      <td>1</td>\n",
       "      <td>1</td>\n",
       "      <td>3</td>\n",
       "    </tr>\n",
       "    <tr>\n",
       "      <td>tt0315642</td>\n",
       "      <td>Relbig.</td>\n",
       "      <td>1100000.0</td>\n",
       "      <td>0.0</td>\n",
       "      <td>2016.0</td>\n",
       "      <td>NaN</td>\n",
       "      <td>0.0</td>\n",
       "      <td>1100000.0</td>\n",
       "      <td>2016.0</td>\n",
       "      <td>103.0</td>\n",
       "      <td>Action,Crime,Drama</td>\n",
       "      <td>7.1</td>\n",
       "      <td>15378.0</td>\n",
       "      <td>Wazir</td>\n",
       "      <td>[Action, Crime, Drama]</td>\n",
       "      <td>8</td>\n",
       "      <td>1</td>\n",
       "      <td>3</td>\n",
       "    </tr>\n",
       "    <tr>\n",
       "      <td>tt0337692</td>\n",
       "      <td>IFC</td>\n",
       "      <td>744000.0</td>\n",
       "      <td>8000000.0</td>\n",
       "      <td>2012.0</td>\n",
       "      <td>Mar 22, 2013</td>\n",
       "      <td>25000000.0</td>\n",
       "      <td>9313302.0</td>\n",
       "      <td>2012.0</td>\n",
       "      <td>124.0</td>\n",
       "      <td>Adventure,Drama,Romance</td>\n",
       "      <td>6.1</td>\n",
       "      <td>37886.0</td>\n",
       "      <td>On the Road</td>\n",
       "      <td>[Adventure, Drama, Romance]</td>\n",
       "      <td>2</td>\n",
       "      <td>1</td>\n",
       "      <td>3</td>\n",
       "    </tr>\n",
       "    <tr>\n",
       "      <td>tt0359950</td>\n",
       "      <td>Fox</td>\n",
       "      <td>58200000.0</td>\n",
       "      <td>129900000.0</td>\n",
       "      <td>2013.0</td>\n",
       "      <td>Dec 25, 2013</td>\n",
       "      <td>91000000.0</td>\n",
       "      <td>187861183.0</td>\n",
       "      <td>2013.0</td>\n",
       "      <td>114.0</td>\n",
       "      <td>Adventure,Comedy,Drama</td>\n",
       "      <td>7.3</td>\n",
       "      <td>275300.0</td>\n",
       "      <td>The Secret Life of Walter Mitty</td>\n",
       "      <td>[Adventure, Comedy, Drama]</td>\n",
       "      <td>2</td>\n",
       "      <td>1</td>\n",
       "      <td>3</td>\n",
       "    </tr>\n",
       "  </tbody>\n",
       "</table>\n",
       "</div>"
      ],
      "text/plain": [
       "            studio  domestic_gross  foreign_gross    year  release_date  \\\n",
       "tt0249516      NaN             0.0        73706.0     NaN  Dec 31, 2012   \n",
       "tt0293429      NaN      70433227.0     51700000.0     NaN  Aug 18, 1995   \n",
       "tt0315642  Relbig.       1100000.0            0.0  2016.0           NaN   \n",
       "tt0337692      IFC        744000.0      8000000.0  2012.0  Mar 22, 2013   \n",
       "tt0359950      Fox      58200000.0    129900000.0  2013.0  Dec 25, 2013   \n",
       "\n",
       "           production_budget  worldwide_gross  start_year  runtime_minutes  \\\n",
       "tt0249516         45000000.0          73706.0      2012.0             91.0   \n",
       "tt0293429         20000000.0      122133227.0      2021.0              NaN   \n",
       "tt0315642                0.0        1100000.0      2016.0            103.0   \n",
       "tt0337692         25000000.0        9313302.0      2012.0            124.0   \n",
       "tt0359950         91000000.0      187861183.0      2013.0            114.0   \n",
       "\n",
       "                             genres  averagerating  numvotes  \\\n",
       "tt0249516   Action,Animation,Comedy            1.9    8248.0   \n",
       "tt0293429  Action,Adventure,Fantasy            NaN       NaN   \n",
       "tt0315642        Action,Crime,Drama            7.1   15378.0   \n",
       "tt0337692   Adventure,Drama,Romance            6.1   37886.0   \n",
       "tt0359950    Adventure,Comedy,Drama            7.3  275300.0   \n",
       "\n",
       "                                movie_name                    genresList  \\\n",
       "tt0249516                       Foodfight!   [Action, Animation, Comedy]   \n",
       "tt0293429                    Mortal Kombat  [Action, Adventure, Fantasy]   \n",
       "tt0315642                            Wazir        [Action, Crime, Drama]   \n",
       "tt0337692                      On the Road   [Adventure, Drama, Romance]   \n",
       "tt0359950  The Secret Life of Walter Mitty    [Adventure, Comedy, Drama]   \n",
       "\n",
       "           writerCount  directorCount  genresCount  \n",
       "tt0249516            5              1            3  \n",
       "tt0293429            1              1            3  \n",
       "tt0315642            8              1            3  \n",
       "tt0337692            2              1            3  \n",
       "tt0359950            2              1            3  "
      ]
     },
     "execution_count": 37,
     "metadata": {},
     "output_type": "execute_result"
    }
   ],
   "source": [
    "df2.head()"
   ]
  },
  {
   "cell_type": "code",
   "execution_count": 22,
   "metadata": {},
   "outputs": [],
   "source": [
    "import pymongo\n",
    "import pandas as pd\n",
    "import matplotlib.pyplot as plt\n",
    "\n",
    "%matplotlib inline"
   ]
  },
  {
   "cell_type": "code",
   "execution_count": 52,
   "metadata": {},
   "outputs": [],
   "source": [
    "%store -r df2"
   ]
  },
  {
   "cell_type": "code",
   "execution_count": 5,
   "metadata": {},
   "outputs": [],
   "source": [
    "def getGenreInfo(keyword, df):    \n",
    "    allInfo = {}\n",
    "    title = []\n",
    "    genre = []\n",
    "    domestic_gross = []\n",
    "    foreign_gross = []\n",
    "    worldwide_gross = []\n",
    "    production_budget = []\n",
    "    for i in df.index:\n",
    "        \n",
    "        if any(keyword in g for g in df['genresList'][i]):\n",
    "            genre.append(keyword)\n",
    "            title.append(df['movie_name'][i])\n",
    "            domestic_gross.append(df['domestic_gross'][i])\n",
    "            foreign_gross.append(df['foreign_gross'][i])\n",
    "            worldwide_gross.append(df['worldwide_gross'][i])\n",
    "            production_budget.append(df['production_budget'][i])\n",
    "        allInfo.update({'Title' : title,\n",
    "                        'Genre' : genre,\n",
    "                        'Domestic Gross' : domestic_gross,\n",
    "                        'Foreign Gross' : foreign_gross,\n",
    "                        'Worldwide Gross' : worldwide_gross,\n",
    "                        'Production Budget' : production_budget})\n",
    "    return allInfo\n"
   ]
  },
  {
   "cell_type": "code",
   "execution_count": 4,
   "metadata": {},
   "outputs": [
    {
     "ename": "NameError",
     "evalue": "name 'getGenreInfo' is not defined",
     "output_type": "error",
     "traceback": [
      "\u001b[1;31m---------------------------------------------------------------------------\u001b[0m",
      "\u001b[1;31mNameError\u001b[0m                                 Traceback (most recent call last)",
      "\u001b[1;32m<ipython-input-4-b78c6b6856d1>\u001b[0m in \u001b[0;36m<module>\u001b[1;34m\u001b[0m\n\u001b[1;32m----> 1\u001b[1;33m \u001b[0mgetGenreInfo\u001b[0m\u001b[1;33m(\u001b[0m\u001b[1;34m'Action'\u001b[0m\u001b[1;33m,\u001b[0m \u001b[0mdf2\u001b[0m\u001b[1;33m)\u001b[0m\u001b[1;33m\u001b[0m\u001b[1;33m\u001b[0m\u001b[0m\n\u001b[0m",
      "\u001b[1;31mNameError\u001b[0m: name 'getGenreInfo' is not defined"
     ]
    }
   ],
   "source": []
  },
  {
   "cell_type": "code",
   "execution_count": 5,
   "metadata": {},
   "outputs": [],
   "source": [
    "action = pd.DataFrame(fun.getGenreInfo('Action', df2))"
   ]
  },
  {
   "cell_type": "code",
   "execution_count": 10,
   "metadata": {},
   "outputs": [
    {
     "data": {
      "text/html": [
       "<div>\n",
       "<style scoped>\n",
       "    .dataframe tbody tr th:only-of-type {\n",
       "        vertical-align: middle;\n",
       "    }\n",
       "\n",
       "    .dataframe tbody tr th {\n",
       "        vertical-align: top;\n",
       "    }\n",
       "\n",
       "    .dataframe thead th {\n",
       "        text-align: right;\n",
       "    }\n",
       "</style>\n",
       "<table border=\"1\" class=\"dataframe\">\n",
       "  <thead>\n",
       "    <tr style=\"text-align: right;\">\n",
       "      <th></th>\n",
       "      <th>Title</th>\n",
       "      <th>Genre</th>\n",
       "      <th>Domestic Gross</th>\n",
       "      <th>Foreign Gross</th>\n",
       "      <th>Worldwide Gross</th>\n",
       "      <th>Production Budget</th>\n",
       "    </tr>\n",
       "  </thead>\n",
       "  <tbody>\n",
       "    <tr>\n",
       "      <td>0</td>\n",
       "      <td>Foodfight!</td>\n",
       "      <td>Action</td>\n",
       "      <td>0</td>\n",
       "      <td>73706</td>\n",
       "      <td>73706</td>\n",
       "      <td>4.5e+07</td>\n",
       "    </tr>\n",
       "    <tr>\n",
       "      <td>1</td>\n",
       "      <td>Mortal Kombat</td>\n",
       "      <td>Action</td>\n",
       "      <td>7.04332e+07</td>\n",
       "      <td>5.17e+07</td>\n",
       "      <td>1.22133e+08</td>\n",
       "      <td>2e+07</td>\n",
       "    </tr>\n",
       "    <tr>\n",
       "      <td>2</td>\n",
       "      <td>Wazir</td>\n",
       "      <td>Action</td>\n",
       "      <td>1.1e+06</td>\n",
       "      <td>0</td>\n",
       "      <td>1.1e+06</td>\n",
       "      <td>0</td>\n",
       "    </tr>\n",
       "    <tr>\n",
       "      <td>3</td>\n",
       "      <td>A Walk Among the Tombstones</td>\n",
       "      <td>Action</td>\n",
       "      <td>2.63e+07</td>\n",
       "      <td>2.69e+07</td>\n",
       "      <td>6.21086e+07</td>\n",
       "      <td>2.8e+07</td>\n",
       "    </tr>\n",
       "    <tr>\n",
       "      <td>4</td>\n",
       "      <td>Jurassic World</td>\n",
       "      <td>Action</td>\n",
       "      <td>6.523e+08</td>\n",
       "      <td>1019.4</td>\n",
       "      <td>1.64885e+09</td>\n",
       "      <td>2.15e+08</td>\n",
       "    </tr>\n",
       "  </tbody>\n",
       "</table>\n",
       "</div>"
      ],
      "text/plain": [
       "                         Title   Genre Domestic Gross Foreign Gross  \\\n",
       "0                   Foodfight!  Action              0         73706   \n",
       "1                Mortal Kombat  Action    7.04332e+07      5.17e+07   \n",
       "2                        Wazir  Action        1.1e+06             0   \n",
       "3  A Walk Among the Tombstones  Action       2.63e+07      2.69e+07   \n",
       "4               Jurassic World  Action      6.523e+08        1019.4   \n",
       "\n",
       "  Worldwide Gross Production Budget  \n",
       "0           73706           4.5e+07  \n",
       "1     1.22133e+08             2e+07  \n",
       "2         1.1e+06                 0  \n",
       "3     6.21086e+07           2.8e+07  \n",
       "4     1.64885e+09          2.15e+08  "
      ]
     },
     "execution_count": 10,
     "metadata": {},
     "output_type": "execute_result"
    }
   ],
   "source": [
    "action.head()"
   ]
  },
  {
   "cell_type": "code",
   "execution_count": 33,
   "metadata": {},
   "outputs": [
    {
     "name": "stdout",
     "output_type": "stream",
     "text": [
      "<class 'pandas.core.frame.DataFrame'>\n",
      "RangeIndex: 935 entries, 0 to 934\n",
      "Data columns (total 6 columns):\n",
      "Title                935 non-null object\n",
      "Genre                935 non-null object\n",
      "Domestic Gross       935 non-null object\n",
      "Foreign Gross        935 non-null object\n",
      "Worldwide Gross      935 non-null object\n",
      "Production Budget    935 non-null object\n",
      "dtypes: object(6)\n",
      "memory usage: 44.0+ KB\n"
     ]
    }
   ],
   "source": [
    "action.info()"
   ]
  },
  {
   "cell_type": "code",
   "execution_count": 53,
   "metadata": {},
   "outputs": [],
   "source": [
    "df3 = df2\n",
    "df3['genresCount'] = fun.countNewCol(df3, 'genresList')"
   ]
  },
  {
   "cell_type": "code",
   "execution_count": 54,
   "metadata": {},
   "outputs": [],
   "source": [
    "df3 = df3.reset_index()"
   ]
  },
  {
   "cell_type": "code",
   "execution_count": 55,
   "metadata": {},
   "outputs": [
    {
     "data": {
      "text/html": [
       "<div>\n",
       "<style scoped>\n",
       "    .dataframe tbody tr th:only-of-type {\n",
       "        vertical-align: middle;\n",
       "    }\n",
       "\n",
       "    .dataframe tbody tr th {\n",
       "        vertical-align: top;\n",
       "    }\n",
       "\n",
       "    .dataframe thead th {\n",
       "        text-align: right;\n",
       "    }\n",
       "</style>\n",
       "<table border=\"1\" class=\"dataframe\">\n",
       "  <thead>\n",
       "    <tr style=\"text-align: right;\">\n",
       "      <th></th>\n",
       "      <th>index</th>\n",
       "      <th>studio</th>\n",
       "      <th>domestic_gross</th>\n",
       "      <th>foreign_gross</th>\n",
       "      <th>year</th>\n",
       "      <th>release_date</th>\n",
       "      <th>production_budget</th>\n",
       "      <th>worldwide_gross</th>\n",
       "      <th>start_year</th>\n",
       "      <th>runtime_minutes</th>\n",
       "      <th>genres</th>\n",
       "      <th>averagerating</th>\n",
       "      <th>numvotes</th>\n",
       "      <th>movie_name</th>\n",
       "      <th>genresList</th>\n",
       "      <th>writerCount</th>\n",
       "      <th>directorCount</th>\n",
       "      <th>genresCount</th>\n",
       "    </tr>\n",
       "  </thead>\n",
       "  <tbody>\n",
       "    <tr>\n",
       "      <td>0</td>\n",
       "      <td>tt0249516</td>\n",
       "      <td>NaN</td>\n",
       "      <td>0.0</td>\n",
       "      <td>73706.0</td>\n",
       "      <td>NaN</td>\n",
       "      <td>Dec 31, 2012</td>\n",
       "      <td>45000000.0</td>\n",
       "      <td>73706.0</td>\n",
       "      <td>2012.0</td>\n",
       "      <td>91.0</td>\n",
       "      <td>Action,Animation,Comedy</td>\n",
       "      <td>1.9</td>\n",
       "      <td>8248.0</td>\n",
       "      <td>Foodfight!</td>\n",
       "      <td>[Action, Animation, Comedy]</td>\n",
       "      <td>5</td>\n",
       "      <td>1</td>\n",
       "      <td>3</td>\n",
       "    </tr>\n",
       "    <tr>\n",
       "      <td>1</td>\n",
       "      <td>tt0293429</td>\n",
       "      <td>NaN</td>\n",
       "      <td>70433227.0</td>\n",
       "      <td>51700000.0</td>\n",
       "      <td>NaN</td>\n",
       "      <td>Aug 18, 1995</td>\n",
       "      <td>20000000.0</td>\n",
       "      <td>122133227.0</td>\n",
       "      <td>2021.0</td>\n",
       "      <td>NaN</td>\n",
       "      <td>Action,Adventure,Fantasy</td>\n",
       "      <td>NaN</td>\n",
       "      <td>NaN</td>\n",
       "      <td>Mortal Kombat</td>\n",
       "      <td>[Action, Adventure, Fantasy]</td>\n",
       "      <td>1</td>\n",
       "      <td>1</td>\n",
       "      <td>3</td>\n",
       "    </tr>\n",
       "    <tr>\n",
       "      <td>2</td>\n",
       "      <td>tt0315642</td>\n",
       "      <td>Relbig.</td>\n",
       "      <td>1100000.0</td>\n",
       "      <td>0.0</td>\n",
       "      <td>2016.0</td>\n",
       "      <td>NaN</td>\n",
       "      <td>0.0</td>\n",
       "      <td>1100000.0</td>\n",
       "      <td>2016.0</td>\n",
       "      <td>103.0</td>\n",
       "      <td>Action,Crime,Drama</td>\n",
       "      <td>7.1</td>\n",
       "      <td>15378.0</td>\n",
       "      <td>Wazir</td>\n",
       "      <td>[Action, Crime, Drama]</td>\n",
       "      <td>8</td>\n",
       "      <td>1</td>\n",
       "      <td>3</td>\n",
       "    </tr>\n",
       "    <tr>\n",
       "      <td>3</td>\n",
       "      <td>tt0337692</td>\n",
       "      <td>IFC</td>\n",
       "      <td>744000.0</td>\n",
       "      <td>8000000.0</td>\n",
       "      <td>2012.0</td>\n",
       "      <td>Mar 22, 2013</td>\n",
       "      <td>25000000.0</td>\n",
       "      <td>9313302.0</td>\n",
       "      <td>2012.0</td>\n",
       "      <td>124.0</td>\n",
       "      <td>Adventure,Drama,Romance</td>\n",
       "      <td>6.1</td>\n",
       "      <td>37886.0</td>\n",
       "      <td>On the Road</td>\n",
       "      <td>[Adventure, Drama, Romance]</td>\n",
       "      <td>2</td>\n",
       "      <td>1</td>\n",
       "      <td>3</td>\n",
       "    </tr>\n",
       "    <tr>\n",
       "      <td>4</td>\n",
       "      <td>tt0359950</td>\n",
       "      <td>Fox</td>\n",
       "      <td>58200000.0</td>\n",
       "      <td>129900000.0</td>\n",
       "      <td>2013.0</td>\n",
       "      <td>Dec 25, 2013</td>\n",
       "      <td>91000000.0</td>\n",
       "      <td>187861183.0</td>\n",
       "      <td>2013.0</td>\n",
       "      <td>114.0</td>\n",
       "      <td>Adventure,Comedy,Drama</td>\n",
       "      <td>7.3</td>\n",
       "      <td>275300.0</td>\n",
       "      <td>The Secret Life of Walter Mitty</td>\n",
       "      <td>[Adventure, Comedy, Drama]</td>\n",
       "      <td>2</td>\n",
       "      <td>1</td>\n",
       "      <td>3</td>\n",
       "    </tr>\n",
       "  </tbody>\n",
       "</table>\n",
       "</div>"
      ],
      "text/plain": [
       "       index   studio  domestic_gross  foreign_gross    year  release_date  \\\n",
       "0  tt0249516      NaN             0.0        73706.0     NaN  Dec 31, 2012   \n",
       "1  tt0293429      NaN      70433227.0     51700000.0     NaN  Aug 18, 1995   \n",
       "2  tt0315642  Relbig.       1100000.0            0.0  2016.0           NaN   \n",
       "3  tt0337692      IFC        744000.0      8000000.0  2012.0  Mar 22, 2013   \n",
       "4  tt0359950      Fox      58200000.0    129900000.0  2013.0  Dec 25, 2013   \n",
       "\n",
       "   production_budget  worldwide_gross  start_year  runtime_minutes  \\\n",
       "0         45000000.0          73706.0      2012.0             91.0   \n",
       "1         20000000.0      122133227.0      2021.0              NaN   \n",
       "2                0.0        1100000.0      2016.0            103.0   \n",
       "3         25000000.0        9313302.0      2012.0            124.0   \n",
       "4         91000000.0      187861183.0      2013.0            114.0   \n",
       "\n",
       "                     genres  averagerating  numvotes  \\\n",
       "0   Action,Animation,Comedy            1.9    8248.0   \n",
       "1  Action,Adventure,Fantasy            NaN       NaN   \n",
       "2        Action,Crime,Drama            7.1   15378.0   \n",
       "3   Adventure,Drama,Romance            6.1   37886.0   \n",
       "4    Adventure,Comedy,Drama            7.3  275300.0   \n",
       "\n",
       "                        movie_name                    genresList  writerCount  \\\n",
       "0                       Foodfight!   [Action, Animation, Comedy]            5   \n",
       "1                    Mortal Kombat  [Action, Adventure, Fantasy]            1   \n",
       "2                            Wazir        [Action, Crime, Drama]            8   \n",
       "3                      On the Road   [Adventure, Drama, Romance]            2   \n",
       "4  The Secret Life of Walter Mitty    [Adventure, Comedy, Drama]            2   \n",
       "\n",
       "   directorCount  genresCount  \n",
       "0              1            3  \n",
       "1              1            3  \n",
       "2              1            3  \n",
       "3              1            3  \n",
       "4              1            3  "
      ]
     },
     "execution_count": 55,
     "metadata": {},
     "output_type": "execute_result"
    }
   ],
   "source": [
    "df3.head()"
   ]
  },
  {
   "cell_type": "code",
   "execution_count": 14,
   "metadata": {},
   "outputs": [],
   "source": [
    "sampledf = df3.loc[df3['genresCount'] == 1]"
   ]
  },
  {
   "cell_type": "code",
   "execution_count": 19,
   "metadata": {},
   "outputs": [
    {
     "data": {
      "text/plain": [
       "21"
      ]
     },
     "execution_count": 19,
     "metadata": {},
     "output_type": "execute_result"
    }
   ],
   "source": [
    "sampledf['genres'].nunique()"
   ]
  },
  {
   "cell_type": "code",
   "execution_count": 16,
   "metadata": {},
   "outputs": [],
   "source": [
    "genreList = list(sampledf['genres'].unique())"
   ]
  },
  {
   "cell_type": "code",
   "execution_count": 17,
   "metadata": {},
   "outputs": [
    {
     "data": {
      "text/plain": [
       "['Drama',\n",
       " 'Comedy',\n",
       " 'Documentary',\n",
       " 'Musical',\n",
       " 'Horror',\n",
       " 'Action',\n",
       " 'Thriller',\n",
       " 'Sci-Fi',\n",
       " 'Fantasy',\n",
       " 'Western',\n",
       " 'Animation',\n",
       " 'Romance',\n",
       " 'Family',\n",
       " 'Biography',\n",
       " 'Crime',\n",
       " 'War',\n",
       " 'Music',\n",
       " 'Adventure',\n",
       " 'Sport',\n",
       " 'Mystery',\n",
       " 'History']"
      ]
     },
     "execution_count": 17,
     "metadata": {},
     "output_type": "execute_result"
    }
   ],
   "source": [
    "genreList"
   ]
  },
  {
   "cell_type": "code",
   "execution_count": 48,
   "metadata": {},
   "outputs": [
    {
     "data": {
      "text/plain": [
       "<module 'functions' from 'C:\\\\Users\\\\damni\\\\flatiron-ds-course\\\\mod1proj\\\\Prjoect\\\\functions.py'>"
      ]
     },
     "execution_count": 48,
     "metadata": {},
     "output_type": "execute_result"
    }
   ],
   "source": [
    "reload(fun)"
   ]
  },
  {
   "cell_type": "code",
   "execution_count": 56,
   "metadata": {},
   "outputs": [],
   "source": [
    "Genredf = pd.concat(fun.toConcat(df3))"
   ]
  },
  {
   "cell_type": "code",
   "execution_count": 57,
   "metadata": {},
   "outputs": [
    {
     "data": {
      "text/html": [
       "<div>\n",
       "<style scoped>\n",
       "    .dataframe tbody tr th:only-of-type {\n",
       "        vertical-align: middle;\n",
       "    }\n",
       "\n",
       "    .dataframe tbody tr th {\n",
       "        vertical-align: top;\n",
       "    }\n",
       "\n",
       "    .dataframe thead th {\n",
       "        text-align: right;\n",
       "    }\n",
       "</style>\n",
       "<table border=\"1\" class=\"dataframe\">\n",
       "  <thead>\n",
       "    <tr style=\"text-align: right;\">\n",
       "      <th></th>\n",
       "      <th>Title</th>\n",
       "      <th>Genre</th>\n",
       "      <th>Domestic_Gross</th>\n",
       "      <th>Foreign_Gross</th>\n",
       "      <th>Worldwide_Gross</th>\n",
       "      <th>Production_Budget</th>\n",
       "      <th>Director_Count</th>\n",
       "      <th>Writer_Count</th>\n",
       "    </tr>\n",
       "  </thead>\n",
       "  <tbody>\n",
       "    <tr>\n",
       "      <td>0</td>\n",
       "      <td>Wazir</td>\n",
       "      <td>Drama</td>\n",
       "      <td>1100000.0</td>\n",
       "      <td>0.0</td>\n",
       "      <td>1100000.0</td>\n",
       "      <td>0.0</td>\n",
       "      <td>1</td>\n",
       "      <td>8</td>\n",
       "    </tr>\n",
       "    <tr>\n",
       "      <td>1</td>\n",
       "      <td>On the Road</td>\n",
       "      <td>Drama</td>\n",
       "      <td>744000.0</td>\n",
       "      <td>8000000.0</td>\n",
       "      <td>9313302.0</td>\n",
       "      <td>25000000.0</td>\n",
       "      <td>1</td>\n",
       "      <td>2</td>\n",
       "    </tr>\n",
       "    <tr>\n",
       "      <td>2</td>\n",
       "      <td>The Secret Life of Walter Mitty</td>\n",
       "      <td>Drama</td>\n",
       "      <td>58200000.0</td>\n",
       "      <td>129900000.0</td>\n",
       "      <td>187861183.0</td>\n",
       "      <td>91000000.0</td>\n",
       "      <td>1</td>\n",
       "      <td>2</td>\n",
       "    </tr>\n",
       "    <tr>\n",
       "      <td>3</td>\n",
       "      <td>A Walk Among the Tombstones</td>\n",
       "      <td>Drama</td>\n",
       "      <td>26300000.0</td>\n",
       "      <td>26900000.0</td>\n",
       "      <td>62108587.0</td>\n",
       "      <td>28000000.0</td>\n",
       "      <td>1</td>\n",
       "      <td>2</td>\n",
       "    </tr>\n",
       "    <tr>\n",
       "      <td>4</td>\n",
       "      <td>Spy</td>\n",
       "      <td>Drama</td>\n",
       "      <td>110800000.0</td>\n",
       "      <td>124800000.0</td>\n",
       "      <td>235600000.0</td>\n",
       "      <td>0.0</td>\n",
       "      <td>1</td>\n",
       "      <td>3</td>\n",
       "    </tr>\n",
       "  </tbody>\n",
       "</table>\n",
       "</div>"
      ],
      "text/plain": [
       "                             Title  Genre  Domestic_Gross  Foreign_Gross  \\\n",
       "0                            Wazir  Drama       1100000.0            0.0   \n",
       "1                      On the Road  Drama        744000.0      8000000.0   \n",
       "2  The Secret Life of Walter Mitty  Drama      58200000.0    129900000.0   \n",
       "3      A Walk Among the Tombstones  Drama      26300000.0     26900000.0   \n",
       "4                              Spy  Drama     110800000.0    124800000.0   \n",
       "\n",
       "   Worldwide_Gross  Production_Budget  Director_Count  Writer_Count  \n",
       "0        1100000.0                0.0               1             8  \n",
       "1        9313302.0         25000000.0               1             2  \n",
       "2      187861183.0         91000000.0               1             2  \n",
       "3       62108587.0         28000000.0               1             2  \n",
       "4      235600000.0                0.0               1             3  "
      ]
     },
     "execution_count": 57,
     "metadata": {},
     "output_type": "execute_result"
    }
   ],
   "source": [
    "Genredf.head()"
   ]
  },
  {
   "cell_type": "code",
   "execution_count": 58,
   "metadata": {},
   "outputs": [
    {
     "name": "stdout",
     "output_type": "stream",
     "text": [
      "<class 'pandas.core.frame.DataFrame'>\n",
      "Int64Index: 10917 entries, 0 to 189\n",
      "Data columns (total 8 columns):\n",
      "Title                10917 non-null object\n",
      "Genre                10917 non-null object\n",
      "Domestic_Gross       10917 non-null float64\n",
      "Foreign_Gross        10917 non-null float64\n",
      "Worldwide_Gross      10917 non-null float64\n",
      "Production_Budget    10917 non-null float64\n",
      "Director_Count       10917 non-null int64\n",
      "Writer_Count         10917 non-null int64\n",
      "dtypes: float64(4), int64(2), object(2)\n",
      "memory usage: 767.6+ KB\n"
     ]
    }
   ],
   "source": [
    "Genredf.info()"
   ]
  },
  {
   "cell_type": "code",
   "execution_count": 32,
   "metadata": {},
   "outputs": [
    {
     "data": {
      "text/plain": [
       "0.0                           365\n",
       "1800000.0                      72\n",
       "1300000.0                      70\n",
       "1000000.0                      66\n",
       "1100000.0                      61\n",
       "                             ... \n",
       "[246734314.0, 217350219.0]      1\n",
       "[177397510.0, 15433.0]          1\n",
       "30600.0                         1\n",
       "[1500000.0, 1500000.0]          1\n",
       "[177397510.0, 15433.0]          1\n",
       "Name: Domestic Gross, Length: 2931, dtype: int64"
      ]
     },
     "execution_count": 32,
     "metadata": {},
     "output_type": "execute_result"
    }
   ],
   "source": [
    "Genredf['Domestic Gross'].value_counts()"
   ]
  },
  {
   "cell_type": "code",
   "execution_count": 59,
   "metadata": {},
   "outputs": [
    {
     "name": "stdout",
     "output_type": "stream",
     "text": [
      "Stored 'Genredf' (DataFrame)\n"
     ]
    }
   ],
   "source": [
    "%store Genredf"
   ]
  },
  {
   "cell_type": "code",
   "execution_count": null,
   "metadata": {},
   "outputs": [],
   "source": []
  }
 ],
 "metadata": {
  "kernelspec": {
   "display_name": "Python [conda env:learn-env] *",
   "language": "python",
   "name": "conda-env-learn-env-py"
  },
  "language_info": {
   "codemirror_mode": {
    "name": "ipython",
    "version": 3
   },
   "file_extension": ".py",
   "mimetype": "text/x-python",
   "name": "python",
   "nbconvert_exporter": "python",
   "pygments_lexer": "ipython3",
   "version": "3.6.9"
  }
 },
 "nbformat": 4,
 "nbformat_minor": 2
}
